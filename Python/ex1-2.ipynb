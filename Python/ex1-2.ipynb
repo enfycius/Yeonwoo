{
 "cells": [
  {
   "attachments": {},
   "cell_type": "markdown",
   "metadata": {},
   "source": [
    "# 반복문\n",
    "\n",
    "\n",
    "* for\n",
    "\n",
    "* while"
   ]
  },
  {
   "attachments": {},
   "cell_type": "markdown",
   "metadata": {},
   "source": [
    "## 변수의 개념"
   ]
  },
  {
   "cell_type": "code",
   "execution_count": 8,
   "metadata": {},
   "outputs": [],
   "source": [
    "i = 10"
   ]
  },
  {
   "cell_type": "code",
   "execution_count": 13,
   "metadata": {},
   "outputs": [
    {
     "name": "stdout",
     "output_type": "stream",
     "text": [
      "*\n",
      "i가 10이랑 같지 않습니다.\n",
      "Hello\n",
      "*\n",
      "i가 10이랑 같지 않습니다.\n",
      "Hello\n",
      "*\n",
      "i가 10이랑 같지 않습니다.\n",
      "Hello\n",
      "*\n",
      "i가 10이랑 같지 않습니다.\n",
      "Hello\n",
      "*\n",
      "i가 10이랑 같지 않습니다.\n",
      "Hello\n",
      "*\n",
      "i가 10이랑 같지 않습니다.\n",
      "Hello\n"
     ]
    }
   ],
   "source": [
    "# for i in range(1, 10):\n",
    "#     print(i)\n",
    "\n",
    "\n",
    "\n",
    "# for i in range(1, 10):\n",
    "#     print(\"Hello\")\n",
    "#     print(\"World\")\n",
    "\n",
    "# 0 ~ 9\n",
    "\n",
    "# 8\n",
    "# 9\n",
    "# 꺼낼게 없을 때 반복이 끝남.\n",
    "\n",
    "for i in range(0, 6):\n",
    "    # 반복하고 싶은 문장들\n",
    "    print(\"*\")\n",
    "\n",
    "    # 등호가 2개 있으면(==) 같다의 의미\n",
    "    # 느낌표 다음에 등호가 오면(!=) 같지 않다의 의미\n",
    "    if i != 6:\n",
    "        print(\"i가 10이랑 같지 않습니다.\")\n",
    "\n",
    "    print(\"Hello\")\n",
    "\n",
    "\n",
    "    # 조건식\n",
    "\n",
    "    # i < 10\n",
    "    # i == 10\n",
    "    # i > 10\n",
    "\n",
    "\n",
    "    \n",
    "    # 0 ~ 9 \n",
    "\n",
    "    # 0 1 2 3 4 5 6 7 8 9 => 10개\n",
    "\n",
    "\n",
    "\n",
    "# print(\"123\")\n",
    "# print(\"456\")"
   ]
  },
  {
   "cell_type": "code",
   "execution_count": null,
   "metadata": {},
   "outputs": [],
   "source": [
    "i = 0\n",
    "\n",
    "# 같다(==)의 반대는 같지 않다(!=)\n",
    "\n",
    "# 같지 않다\n",
    "\n",
    "# 같지 않다에는 아래의 두 가지가 들어감\n",
    "\n",
    "\n",
    "# 숫자 한정\n",
    "# 크다\n",
    "# 작다\n",
    "\n",
    "while i < 10:\n",
    "    # 위의 조건을 만족했을 때\n",
    "    # 실행할 문장들이 여기에\n",
    "    # 위치를 하게 된다.\n",
    "\n",
    "    print(\"Hello\")\n",
    "\n",
    "    i = i + 1 \n",
    "    # 위 문장으로 인해서\n",
    "    # i의 값에 변화가 발생함.\n",
    "    # i의 값이 1만큼 증가함.\n",
    "\n",
    "\n",
    "# 0 ~ 9: 0 1 2 3 4 5 6 7 8 9\n",
    "# 10번\n",
    "# 0 ~ 8: 9가 제외\n",
    "# 9번\n",
    "\n",
    "# 취향\n",
    "\n",
    "# Coding Style\n",
    "\n",
    "# for <-> while\n",
    "\n",
    "\n",
    "\n",
    "\n",
    "\n",
    "\n",
    "\n",
    "\n"
   ]
  },
  {
   "attachments": {},
   "cell_type": "markdown",
   "metadata": {},
   "source": [
    "1 ~ 9"
   ]
  },
  {
   "cell_type": "code",
   "execution_count": 14,
   "metadata": {},
   "outputs": [
    {
     "data": {
      "text/plain": [
       "4"
      ]
     },
     "execution_count": 14,
     "metadata": {},
     "output_type": "execute_result"
    }
   ],
   "source": [
    "1 + 3"
   ]
  },
  {
   "cell_type": "code",
   "execution_count": 16,
   "metadata": {},
   "outputs": [
    {
     "data": {
      "text/plain": [
       "'Hello World'"
      ]
     },
     "execution_count": 16,
     "metadata": {},
     "output_type": "execute_result"
    }
   ],
   "source": [
    "\"Hello\" + \" World\""
   ]
  },
  {
   "cell_type": "code",
   "execution_count": 18,
   "metadata": {},
   "outputs": [
    {
     "name": "stdout",
     "output_type": "stream",
     "text": [
      "Hello World\n"
     ]
    }
   ],
   "source": [
    "print(\"Hello\", \"World\")"
   ]
  },
  {
   "cell_type": "code",
   "execution_count": null,
   "metadata": {},
   "outputs": [],
   "source": []
  }
 ],
 "metadata": {
  "kernelspec": {
   "display_name": "base",
   "language": "python",
   "name": "python3"
  },
  "language_info": {
   "codemirror_mode": {
    "name": "ipython",
    "version": 3
   },
   "file_extension": ".py",
   "mimetype": "text/x-python",
   "name": "python",
   "nbconvert_exporter": "python",
   "pygments_lexer": "ipython3",
   "version": "3.10.9"
  },
  "orig_nbformat": 4
 },
 "nbformat": 4,
 "nbformat_minor": 2
}
